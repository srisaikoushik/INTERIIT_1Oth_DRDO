{
 "cells": [
  {
   "cell_type": "code",
   "execution_count": 29,
   "metadata": {},
   "outputs": [],
   "source": [
    "#final value\n",
    "import cv2\n",
    "import numpy as np\n",
    "from math import atan2, cos, sin, sqrt, pi\n",
    "hi = 0\n",
    "ha = 0\n",
    "si = 0\n",
    "sa = 0\n",
    "vi = 0\n",
    "va = 60"
   ]
  },
  {
   "cell_type": "code",
   "execution_count": 30,
   "metadata": {},
   "outputs": [],
   "source": [
    "def drawAxis(img, p_, q_, color, scale):\n",
    "    p = list(p_)\n",
    "    q = list(q_)\n",
    "\n",
    "    ## [visualization1]\n",
    "    angle = atan2(p[1] - q[1], p[0] - q[0]) # angle in radians\n",
    "    #hypotenuse = sqrt((p[1] - q[1]) * (p[1] - q[1]) + (p[0] - q[0]) * (p[0] - q[0]))\n",
    "    hypotenuse = 100\n",
    "\n",
    "    # Here we lengthen the arrow by a factor of scale\n",
    "    q[0] = p[0] - scale * hypotenuse * cos(angle)\n",
    "    q[1] = p[1] - scale * hypotenuse * sin(angle)\n",
    "    cv2.line(img, (int(p[0]), int(p[1])), (int(q[0]), int(q[1])), color, 3, cv2.LINE_AA)\n",
    "\n",
    "    # create the arrow hooks\n",
    "    p[0] = q[0] + 9 * cos(angle + pi / 4)\n",
    "    p[1] = q[1] + 9 * sin(angle + pi / 4)\n",
    "    cv2.line(img, (int(p[0]), int(p[1])), (int(q[0]), int(q[1])), color, 3, cv2.LINE_AA)\n",
    "\n",
    "    p[0] = q[0] + 9 * cos(angle - pi / 4)\n",
    "    p[1] = q[1] + 9 * sin(angle - pi / 4)\n",
    "    cv2.line(img, (int(p[0]), int(p[1])), (int(q[0]), int(q[1])), color, 3, cv2.LINE_AA)\n",
    "    ## [visualization1]\n"
   ]
  },
  {
   "cell_type": "code",
   "execution_count": 31,
   "metadata": {},
   "outputs": [],
   "source": [
    "def getOrientation(pts, img):\n",
    "    ## [pca]\n",
    "    # Construct a buffer used by the pca analysis\n",
    "    sz = len(pts)\n",
    "    data_pts = np.empty((sz, 2), dtype=np.float64)\n",
    "    for i in range(data_pts.shape[0]):\n",
    "        data_pts[i,0] = pts[i,0,0]\n",
    "        data_pts[i,1] = pts[i,0,1]\n",
    "    # Perform PCA analysis\n",
    "    mean = np.empty((0))\n",
    "    mean, eigenvectors, eigenvalues = cv2.PCACompute2(data_pts, mean)\n",
    "    # Store the center of the object\n",
    "    cntr = (int(mean[0,0]), int(mean[0,1]))\n",
    "    ## [pca]\n",
    "    ## [visualization]\n",
    "    # Draw the principal components\n",
    "    cv2.circle(img, cntr, 3, (255, 0, 255), 2)\n",
    "    p1 = (cntr[0] + 0.02 * eigenvectors[0,0] * eigenvalues[0,0], cntr[1] + 0.02 * eigenvectors[0,1] * eigenvalues[0,0])\n",
    "    p2 = (cntr[0] - 0.02 * eigenvectors[1,0] * eigenvalues[1,0], cntr[1] - 0.02 * eigenvectors[1,1] * eigenvalues[1,0])\n",
    "    drawAxis(img, cntr, p1, (255, 255, 0), 1) #Blue line\n",
    "    #drawAxis(img, cntr, p2, (0, 0, 255), 5)  #Red line\n",
    "\n",
    "    angle = atan2(eigenvectors[0,1], eigenvectors[0,0]) # orientation in radians\n",
    "    ## [visualization]\n",
    "\n",
    "    # Label with the rotation angle\n",
    "    label = \"  Rotation Angle: \" + str(-int(np.rad2deg(angle)) - 90) + \" degrees\"\n",
    "    textbox = cv2.rectangle(img, (cntr[0], cntr[1]-25), (cntr[0] + 250, cntr[1] + 10), (255,255,255), -1)\n",
    "    cv2.putText(img, label, (cntr[0], cntr[1]), cv2.FONT_HERSHEY_SIMPLEX, 0.5, (0,0,0), 1, cv2.LINE_AA) \n",
    "    cv2.imshow(\"img\",img)\n",
    "    cv2.waitKey(1)\n",
    "    #cv2.destroyAllWindows()\n",
    "    return angle\n"
   ]
  },
  {
   "cell_type": "code",
   "execution_count": 89,
   "metadata": {},
   "outputs": [],
   "source": [
    "angle_value = np.ones(7)*1.377\n",
    "a_t = 0\n",
    "for i in range(0,3000):\n",
    "    #a = \"imgs/c\"+str(i)+\".png\"\n",
    "    a = \"rgb_imgs/\"+str(i)+\".png\"\n",
    "    #print(a)\n",
    "    img = cv2.imread(a)\n",
    "    img1 = cv2.Canny(img,50,255)\n",
    "    contours, hierarchy = cv2.findContours(img1, cv2.RETR_TREE, cv2.CHAIN_APPROX_SIMPLE)\n",
    "    c = []\n",
    "    for count in contours:\n",
    "        epsilon = 0.01 * cv2.arcLength(count, True)\n",
    "        approximations = cv2.approxPolyDP(count, epsilon, True)\n",
    "        if(cv2.contourArea(count)>800):\n",
    "            c.append(count)\n",
    "    cx = 0\n",
    "    cy = 0\n",
    "    if(len(c)>0):\n",
    "        pt = c[0]\n",
    "        for i in c:\n",
    "            pt = np.append(pt,i,axis=0)\n",
    "            cnt = i\n",
    "            M = cv2.moments(cnt)\n",
    "            cx += int(M['m10']/M['m00'])\n",
    "            cy += int(M['m01']/M['m00'])\n",
    "        cx = int(cx/len(c))\n",
    "        cy = int(cy/len(c))\n",
    "        rect = cv2.minAreaRect(pt)\n",
    "        box = cv2.boxPoints(rect)\n",
    "        box = np.int0(box)\n",
    "        cv2.drawContours(img,[box],0,(0,0,255),2)\n",
    "#         d1 = (box[3][1] - box[0][1])*(box[3][1] - box[0][1]) + (box[3][0] - box[0][0])*(box[3][0] - box[0][0])\n",
    "#         d2 = (box[1][1] - box[0][1])*(box[1][1] - box[0][1]) + (box[1][0] - box[0][0])*(box[1][0] - box[0][0])\n",
    "#         if(d1 > d2):\n",
    "        angle = atan2(box[3][1] - box[0][1], box[3][0] - box[0][0])\n",
    "        #else:\n",
    "            #angle = atan2(box[1][1] - box[0][1], box[1][0] - box[0][0])\n",
    "        a_t = (angle+a_t-angle_value[0])/7\n",
    "        np.delete(angle_value,[0])\n",
    "        angle_value = np.append(angle_value,[a_t],axis=0)\n",
    "        angle = a_t\n",
    "        hyp = 100\n",
    "        sx = int(cx - hyp*cos(angle))\n",
    "        sy = int(cy - hyp*sin(angle))\n",
    "        cv2.line(img, (cx,cy), (sx,sy), (255,0,0), 3, cv2.LINE_AA)\n",
    "        #########################################\n",
    "        ############ROI OF CAR ##################\n",
    "        #########################################\n",
    "        \n",
    "#         roi = np.zeros((480,640),np.int8)\n",
    "#         cv2.fillPoly(roi, [box], 255)\n",
    "#         img = cv2.bitwise_and(img,img,mask=roi)\n",
    "        \n",
    "#         lower = np.array([hi,si,vi])\n",
    "#         upper = np.array([ha,sa,va])\n",
    "#         imghsv = cv2.cvtColor(img,cv2.COLOR_BGR2HSV)\n",
    "#         mask = cv2.inRange(imghsv,lower,upper)\n",
    "#         mask = cv2.bitwise_and(mask,mask,mask=roi)\n",
    "        #imgq = cv2.bitwise_and(,img,mask=roi)\n",
    "        #kernel = np.ones((5,5), np.uint8)\n",
    "        #mask = cv2.dilate(mask, kernel, iterations=10)\n",
    "        #mask = cv2.erode(mask, kernel, iterations=5)\n",
    "#         getOrientation(pt,img)\n",
    "#         imgc = img.copy()\n",
    "#         cv2.circle(imgc,(cx,cy),7,(0,255,0),-1)\n",
    "        imgc = img.copy()\n",
    "        #cv2.drawContours(imgc, [approximations], 0, (0,0,255), 3)\n",
    "        cv2.imshow(\"img\",img)\n",
    "        cv2.waitKey(1)\n",
    "        #cv2.destroyAllWindows()\n",
    "cv2.destroyAllWindows()"
   ]
  },
  {
   "cell_type": "code",
   "execution_count": 68,
   "metadata": {},
   "outputs": [],
   "source": [
    "angle_value = np.zeros(20)\n",
    "a_t = 0"
   ]
  },
  {
   "cell_type": "code",
   "execution_count": 80,
   "metadata": {},
   "outputs": [
    {
     "name": "stdout",
     "output_type": "stream",
     "text": [
      "[0.         0.         0.         0.         0.         0.\n",
      " 0.         0.         0.         0.         0.         0.\n",
      " 0.         0.         0.         0.         0.         0.\n",
      " 0.         0.         1.53854944 1.53854944 1.53854944 1.53854944\n",
      " 1.53854944 1.53854944 1.53854944] 18.46259333231571\n"
     ]
    }
   ],
   "source": [
    "a_t = angle+a_t-angle_value[0]\n",
    "np.delete(angle_value,[0])\n",
    "angle_value = np.append(angle_value,[angle],axis=0)\n",
    "print(angle_value,a_t)"
   ]
  },
  {
   "cell_type": "code",
   "execution_count": null,
   "metadata": {},
   "outputs": [],
   "source": []
  },
  {
   "cell_type": "code",
   "execution_count": null,
   "metadata": {},
   "outputs": [],
   "source": []
  },
  {
   "cell_type": "code",
   "execution_count": null,
   "metadata": {},
   "outputs": [],
   "source": []
  }
 ],
 "metadata": {
  "kernelspec": {
   "display_name": "Python 3",
   "language": "python",
   "name": "python3"
  },
  "language_info": {
   "codemirror_mode": {
    "name": "ipython",
    "version": 3
   },
   "file_extension": ".py",
   "mimetype": "text/x-python",
   "name": "python",
   "nbconvert_exporter": "python",
   "pygments_lexer": "ipython3",
   "version": "3.8.3"
  }
 },
 "nbformat": 4,
 "nbformat_minor": 4
}
